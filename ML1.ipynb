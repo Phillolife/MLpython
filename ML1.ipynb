{
  "nbformat": 4,
  "nbformat_minor": 0,
  "metadata": {
    "colab": {
      "provenance": [],
      "authorship_tag": "ABX9TyM5flO/9VuAkyl6rV3tpZ2W",
      "include_colab_link": true
    },
    "kernelspec": {
      "name": "python3",
      "display_name": "Python 3"
    },
    "language_info": {
      "name": "python"
    }
  },
  "cells": [
    {
      "cell_type": "markdown",
      "metadata": {
        "id": "view-in-github",
        "colab_type": "text"
      },
      "source": [
        "<a href=\"https://colab.research.google.com/github/Phillolife/MLpython/blob/main/ML1.ipynb\" target=\"_parent\"><img src=\"https://colab.research.google.com/assets/colab-badge.svg\" alt=\"Open In Colab\"/></a>"
      ]
    },
    {
      "cell_type": "code",
      "execution_count": null,
      "metadata": {
        "id": "65b-qm-NbfTI"
      },
      "outputs": [],
      "source": [
        "import numpy as np"
      ]
    },
    {
      "cell_type": "code",
      "source": [
        "# type는 데이터 성질 파악.\n",
        "# 배열에 대한 .shape 는 배열의 차원과 크기를 tuple(튜플) 형태로 나타냄.\n",
        "\n",
        "array1 = np.array([1,2,3])\n",
        "print('array1 type:', type(array1))\n",
        "print('array1 array 형태:', array1.shape) # 1차원에서 3개의 데이터터\n",
        "\n",
        "array2 = np.array([[1,2,3,4],\n",
        "                   [5,6,7,8]])\n",
        "print('array2 type:', type(array2))\n",
        "print('array2 array 형태:', array2.shape) # 2차원에서 2개의 행과 4개의 열\n",
        "\n",
        "array3 = np.array([[1,2,3,4]])\n",
        "print('array3 type:', type(array3))\n",
        "print('array3 array 형태:', array3.shape)\n",
        "\n",
        "array4 = np.array([[[1,2,3,4]]])\n",
        "print('array4 type:', type(array4))\n",
        "print('array4 array 형태:', array4.shape)"
      ],
      "metadata": {
        "colab": {
          "base_uri": "https://localhost:8080/"
        },
        "id": "7Vw4eWZNdh8z",
        "outputId": "5a072923-d7f3-4f76-dc12-9454694e4502"
      },
      "execution_count": null,
      "outputs": [
        {
          "output_type": "stream",
          "name": "stdout",
          "text": [
            "array1 type: <class 'numpy.ndarray'>\n",
            "array1 array 형태: (3,)\n",
            "array2 type: <class 'numpy.ndarray'>\n",
            "array2 array 형태: (2, 4)\n",
            "array3 type: <class 'numpy.ndarray'>\n",
            "array3 array 형태: (1, 4)\n",
            "array4 type: <class 'numpy.ndarray'>\n",
            "array4 array 형태: (1, 1, 4)\n"
          ]
        }
      ]
    },
    {
      "cell_type": "code",
      "source": [
        "# .ndim 명령어로 n차원 확인 가능\n",
        "print('array1:{:0}차원, array2:{:1}차원, array3:{:2}차원, array4:{:3}차원'.format(array1.ndim, array2.ndim, array3.ndim, array4.ndim))\n",
        "\n",
        "# array() 함수에서 리스트 []= 1차원, [[]]= 2차원, [[[]]]= 3차원 으로 표기된다."
      ],
      "metadata": {
        "colab": {
          "base_uri": "https://localhost:8080/"
        },
        "id": "ERB-cNgYg6CO",
        "outputId": "4305f8ee-8d46-426f-c341-5b2c09d1b3f5"
      },
      "execution_count": null,
      "outputs": [
        {
          "output_type": "stream",
          "name": "stdout",
          "text": [
            "array1:1차원, array2:2차원, array3: 2차원, array4:  3차원\n"
          ]
        }
      ]
    },
    {
      "cell_type": "code",
      "source": [
        "list1 = [1,2,3]\n",
        "print(type(list1))\n",
        "# list type을 ndarray 로 변경\n",
        "array1 = np.array(list1)\n",
        "\n",
        "print(type(array1))\n",
        "print(array1, array1.dtype)\n",
        "# 변경된 ndarray 내의 데이터 값은 int64형 임."
      ],
      "metadata": {
        "colab": {
          "base_uri": "https://localhost:8080/"
        },
        "id": "17Lp1762iAQk",
        "outputId": "ee498d38-7e2f-421e-db6e-3b0c2c3bc0b0"
      },
      "execution_count": null,
      "outputs": [
        {
          "output_type": "stream",
          "name": "stdout",
          "text": [
            "<class 'list'>\n",
            "<class 'numpy.ndarray'>\n",
            "[1 2 3] int64\n"
          ]
        }
      ]
    },
    {
      "cell_type": "code",
      "source": [
        "# 만약 다른 데이터 유형의 리스트를 ndarray로 변경 했을 때는 더 큰 데이터 타입으로 일괄 적용.\n",
        "list2 = [1, 2, 'test']\n",
        "array2 = np.array(list2)\n",
        "print(array2, array2.dtype) # int형 값과 문자열이 섞여 있을 때 모두 데이터 값이 더 큰 문자열 '1','2','test' 으로 변환됨.\n",
        "\n",
        "list3 = [1, 2, 3.0]\n",
        "array3 = np.array(list3)\n",
        "print(array3, array3.dtype) # int(정수)형 값과 float(실수)형이 섞여 있을 때 모두 데이터 값이 더 큰 float형 1. , 2. , 3. 으로 변환됨."
      ],
      "metadata": {
        "colab": {
          "base_uri": "https://localhost:8080/"
        },
        "id": "tEbUdOQxjEXk",
        "outputId": "006d2990-3798-4aec-ac24-16c87077f8c6"
      },
      "execution_count": null,
      "outputs": [
        {
          "output_type": "stream",
          "name": "stdout",
          "text": [
            "['1' '2' 'test'] <U21\n",
            "[1. 2. 3.] float64\n"
          ]
        }
      ]
    },
    {
      "cell_type": "code",
      "source": [
        "# ndarray 내 데이터값의 타입 변경 astype() 매서드 // 사용이유는 머신러닝에 사용되는 메모리 절약.\n",
        "\n",
        "# 정수형을 실수형으로 변환.\n",
        "array_int = np.array([1, 2, 3])\n",
        "array_float = array_int.astype('float64')\n",
        "print(array_float, array_float.dtype)\n",
        "\n",
        "# 실수형 변환을 정수형(32bit)으로 재재변환.\n",
        "array_int1= array_float.astype('int32')\n",
        "print(array_int1, array_int1.dtype)\n",
        "\n",
        "# 실수형 배열을 정수형(64bit)로 변환. \n",
        "array_float1 = np.array([1.1, 2.1, 3.1])\n",
        "array_int2 = array_float1.astype('int64')\n",
        "print(array_int2, array_int2.dtype)"
      ],
      "metadata": {
        "colab": {
          "base_uri": "https://localhost:8080/"
        },
        "id": "mcdHyDp0lRjz",
        "outputId": "761afcf7-9cb0-4b1f-8dad-60950849fe32"
      },
      "execution_count": null,
      "outputs": [
        {
          "output_type": "stream",
          "name": "stdout",
          "text": [
            "[1. 2. 3.] float64\n",
            "[1 2 3] int32\n",
            "[1 2 3] int64\n"
          ]
        }
      ]
    },
    {
      "cell_type": "code",
      "source": [
        "# arange() 는 파이썬 표준함수 range와 유사한 기능으로 0부터 함수 인자값 -1까지 표기 / ex) arange(5) = [0,1,2,3,4]\n",
        "sequence_array = np.arange(10)\n",
        "print(sequence_array)\n",
        "print(sequence_array.dtype, sequence_array.shape) # 1차원 내 10개의 데이터\n",
        "\n",
        "sequence_array2 = np.arange(2,5) # 초기값 설정도 가능능\n",
        "print(sequence_array2)\n",
        "print(sequence_array2.shape) "
      ],
      "metadata": {
        "colab": {
          "base_uri": "https://localhost:8080/"
        },
        "id": "Dj7MlC3Wn9BU",
        "outputId": "1dfce0ee-75fd-4f4a-905e-4d28d64970c7"
      },
      "execution_count": null,
      "outputs": [
        {
          "output_type": "stream",
          "name": "stdout",
          "text": [
            "[0 1 2 3 4 5 6 7 8 9]\n",
            "int64 (10,)\n",
            "[2 3 4]\n",
            "(3,)\n"
          ]
        }
      ]
    }
  ]
}