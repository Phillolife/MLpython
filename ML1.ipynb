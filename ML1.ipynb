{
  "nbformat": 4,
  "nbformat_minor": 0,
  "metadata": {
    "colab": {
      "provenance": [],
      "authorship_tag": "ABX9TyNbO6oiTPPhKzjHbqituwh+",
      "include_colab_link": true
    },
    "kernelspec": {
      "name": "python3",
      "display_name": "Python 3"
    },
    "language_info": {
      "name": "python"
    }
  },
  "cells": [
    {
      "cell_type": "markdown",
      "metadata": {
        "id": "view-in-github",
        "colab_type": "text"
      },
      "source": [
        "<a href=\"https://colab.research.google.com/github/Phillolife/MLpython/blob/main/ML1.ipynb\" target=\"_parent\"><img src=\"https://colab.research.google.com/assets/colab-badge.svg\" alt=\"Open In Colab\"/></a>"
      ]
    },
    {
      "cell_type": "code",
      "execution_count": 2,
      "metadata": {
        "id": "65b-qm-NbfTI"
      },
      "outputs": [],
      "source": [
        "import numpy as np"
      ]
    },
    {
      "cell_type": "code",
      "source": [
        "# type는 데이터 성질 파악.\n",
        "# 배열에 대한 .shape 는 배열의 차원과 크기를 tuple(튜플) 형태로 나타냄.\n",
        "\n",
        "array1 = np.array([1,2,3])\n",
        "print('array1 type:', type(array1))\n",
        "print('array1 array 형태:', array1.shape) # 1차원에서 3개의 데이터터\n",
        "\n",
        "array2 = np.array([[1,2,3,4],\n",
        "                   [5,6,7,8]])\n",
        "print('array2 type:', type(array2))\n",
        "print('array2 array 형태:', array2.shape) # 2차원에서 2개의 행과 4개의 열\n",
        "\n",
        "array3 = np.array([[1,2,3,4]])\n",
        "print('array3 type:', type(array3))\n",
        "print('array3 array 형태:', array3.shape)\n",
        "\n",
        "array4 = np.array([[[1,2,3,4]]])\n",
        "print('array4 type:', type(array4))\n",
        "print('array4 array 형태:', array4.shape)"
      ],
      "metadata": {
        "colab": {
          "base_uri": "https://localhost:8080/"
        },
        "id": "7Vw4eWZNdh8z",
        "outputId": "f1da8c8b-a270-4de8-aaee-54fff00c0dcc"
      },
      "execution_count": 3,
      "outputs": [
        {
          "output_type": "stream",
          "name": "stdout",
          "text": [
            "array1 type: <class 'numpy.ndarray'>\n",
            "array1 array 형태: (3,)\n",
            "array2 type: <class 'numpy.ndarray'>\n",
            "array2 array 형태: (2, 4)\n",
            "array3 type: <class 'numpy.ndarray'>\n",
            "array3 array 형태: (1, 4)\n",
            "array4 type: <class 'numpy.ndarray'>\n",
            "array4 array 형태: (1, 1, 4)\n"
          ]
        }
      ]
    },
    {
      "cell_type": "code",
      "source": [
        "# .ndim 명령어로 n차원 확인 가능\n",
        "print('array1:{:0}차원, array2:{:1}차원, array3:{:2}차원, array4:{:3}차원'.format(array1.ndim, array2.ndim, array3.ndim, array4.ndim))\n",
        "\n",
        "# array() 함수에서 리스트 []= 1차원, [[]]= 2차원, [[[]]]= 3차원 으로 표기된다."
      ],
      "metadata": {
        "colab": {
          "base_uri": "https://localhost:8080/"
        },
        "id": "ERB-cNgYg6CO",
        "outputId": "7f6db031-b412-4361-e844-0ec375a38ef8"
      },
      "execution_count": 4,
      "outputs": [
        {
          "output_type": "stream",
          "name": "stdout",
          "text": [
            "array1:1차원, array2:2차원, array3: 2차원, array4:  3차원\n"
          ]
        }
      ]
    },
    {
      "cell_type": "code",
      "source": [
        "list1 = [1,2,3]\n",
        "print(type(list1))\n",
        "# list type을 ndarray 로 변경\n",
        "array1 = np.array(list1)\n",
        "\n",
        "print(type(array1))\n",
        "print(array1, array1.dtype)\n",
        "# 변경된 ndarray 내의 데이터 값은 int64형 임."
      ],
      "metadata": {
        "colab": {
          "base_uri": "https://localhost:8080/"
        },
        "id": "17Lp1762iAQk",
        "outputId": "dce1722d-9e0b-4bec-ca52-d518901dd9b7"
      },
      "execution_count": 5,
      "outputs": [
        {
          "output_type": "stream",
          "name": "stdout",
          "text": [
            "<class 'list'>\n",
            "<class 'numpy.ndarray'>\n",
            "[1 2 3] int64\n"
          ]
        }
      ]
    },
    {
      "cell_type": "code",
      "source": [
        "# 만약 다른 데이터 유형의 리스트를 ndarray로 변경 했을 때는 더 큰 데이터 타입으로 일괄 적용.\n",
        "list2 = [1, 2, 'test']\n",
        "array2 = np.array(list2)\n",
        "print(array2, array2.dtype) # int형 값과 문자열이 섞여 있을 때 모두 데이터 값이 더 큰 문자열 '1','2','test' 으로 변환됨.\n",
        "\n",
        "list3 = [1, 2, 3.0]\n",
        "array3 = np.array(list3)\n",
        "print(array3, array3.dtype) # int(정수)형 값과 float(실수)형이 섞여 있을 때 모두 데이터 값이 더 큰 float형 1. , 2. , 3. 으로 변환됨."
      ],
      "metadata": {
        "colab": {
          "base_uri": "https://localhost:8080/"
        },
        "id": "tEbUdOQxjEXk",
        "outputId": "a05904bf-89f4-46ac-b0bc-96150788fec9"
      },
      "execution_count": 6,
      "outputs": [
        {
          "output_type": "stream",
          "name": "stdout",
          "text": [
            "['1' '2' 'test'] <U21\n",
            "[1. 2. 3.] float64\n"
          ]
        }
      ]
    },
    {
      "cell_type": "code",
      "source": [
        "# ndarray 내 데이터값의 타입 변경 astype() 매서드 // 사용이유는 머신러닝에 사용되는 메모리 절약.\n",
        "\n",
        "# 정수형을 실수형으로 변환.\n",
        "array_int = np.array([1, 2, 3])\n",
        "array_float = array_int.astype('float64')\n",
        "print(array_float, array_float.dtype)\n",
        "\n",
        "# 실수형 변환을 정수형(32bit)으로 재재변환.\n",
        "array_int1= array_float.astype('int32')\n",
        "print(array_int1, array_int1.dtype)\n",
        "\n",
        "# 실수형 배열을 정수형(64bit)로 변환. \n",
        "array_float1 = np.array([1.1, 2.1, 3.1])\n",
        "array_int2 = array_float1.astype('int64')\n",
        "print(array_int2, array_int2.dtype)"
      ],
      "metadata": {
        "colab": {
          "base_uri": "https://localhost:8080/"
        },
        "id": "mcdHyDp0lRjz",
        "outputId": "582135c1-22f4-4095-88e0-1224b5ec63bb"
      },
      "execution_count": 7,
      "outputs": [
        {
          "output_type": "stream",
          "name": "stdout",
          "text": [
            "[1. 2. 3.] float64\n",
            "[1 2 3] int32\n",
            "[1 2 3] int64\n"
          ]
        }
      ]
    },
    {
      "cell_type": "code",
      "source": [
        "# arange() 는 파이썬 표준함수 range와 유사한 기능으로 0부터 함수 인자값 -1까지 표기 / ex) arange(5) = [0,1,2,3,4]\n",
        "sequence_array = np.arange(10)\n",
        "print(sequence_array)\n",
        "print(sequence_array.dtype, sequence_array.shape) # 1차원 내 10개의 데이터\n",
        "\n",
        "sequence_array2 = np.arange(2,5) # 초기값 설정도 가능능\n",
        "print(sequence_array2)\n",
        "print(sequence_array2.shape) "
      ],
      "metadata": {
        "colab": {
          "base_uri": "https://localhost:8080/"
        },
        "id": "Dj7MlC3Wn9BU",
        "outputId": "f21f7eb9-2e35-4ba1-aa8b-a7628ec36bea"
      },
      "execution_count": 8,
      "outputs": [
        {
          "output_type": "stream",
          "name": "stdout",
          "text": [
            "[0 1 2 3 4 5 6 7 8 9]\n",
            "int64 (10,)\n",
            "[2 3 4]\n",
            "(3,)\n"
          ]
        }
      ]
    },
    {
      "cell_type": "code",
      "source": [
        "# .zeros()는 함수 인자로 튜플 형태의 shape 값을 입력하면 모든 값을 0으로 채운 해당 shape를 가진 ndarray를 반환.\n",
        "# .ones()는 1로 채움. / 함수인자로 dtype를 정해주지 않으면 float64형이 디폴트 값으로 제공됨.\n",
        "\n",
        "zero_array=np.zeros((3,2), dtype='int32')\n",
        "print(zero_array)\n",
        "print(zero_array.dtype, zero_array.shape)\n",
        "\n",
        "one_array=np.ones((3,2))\n",
        "print(one_array)\n",
        "print(one_array.dtype, one_array.shape)\n",
        "\n"
      ],
      "metadata": {
        "colab": {
          "base_uri": "https://localhost:8080/"
        },
        "id": "JM_J1eN5-Zrw",
        "outputId": "c355dfb0-fa6b-4dcd-9c67-c768cd8ee2a1"
      },
      "execution_count": 13,
      "outputs": [
        {
          "output_type": "stream",
          "name": "stdout",
          "text": [
            "[[0 0]\n",
            " [0 0]\n",
            " [0 0]]\n",
            "int32 (3, 2)\n",
            "[[1. 1.]\n",
            " [1. 1.]\n",
            " [1. 1.]]\n",
            "float64 (3, 2)\n"
          ]
        }
      ]
    },
    {
      "cell_type": "code",
      "source": [
        "# .reshape() 매서드는 ndarray를 특정 차원 및 크기로 변환.\n",
        "# \\n = 칸 넘기기기\n",
        "\n",
        "array1 = np.arange(18)\n",
        "print('array1:\\n', array1)\n",
        "\n",
        "array2 = array1.reshape(3,6)\n",
        "print('array2:\\n', array2)\n",
        "\n",
        "array3 = array1.reshape(9,2)\n",
        "print('array3:\\n', array3)\n",
        "\n",
        "# (로우,칼럼) = (열,행)"
      ],
      "metadata": {
        "colab": {
          "base_uri": "https://localhost:8080/"
        },
        "id": "SYB2a_IWBZsu",
        "outputId": "82a6992a-50c1-449c-c263-05379482b94e"
      },
      "execution_count": 24,
      "outputs": [
        {
          "output_type": "stream",
          "name": "stdout",
          "text": [
            "array1:\n",
            " [ 0  1  2  3  4  5  6  7  8  9 10 11 12 13 14 15 16 17]\n",
            "array2:\n",
            " [[ 0  1  2  3  4  5]\n",
            " [ 6  7  8  9 10 11]\n",
            " [12 13 14 15 16 17]]\n",
            "array3:\n",
            " [[ 0  1]\n",
            " [ 2  3]\n",
            " [ 4  5]\n",
            " [ 6  7]\n",
            " [ 8  9]\n",
            " [10 11]\n",
            " [12 13]\n",
            " [14 15]\n",
            " [16 17]]\n"
          ]
        }
      ]
    },
    {
      "cell_type": "code",
      "source": [
        "# 4차원 배열 만들기\n",
        "\n",
        "array1 = np.arange(16)\n",
        "array3d = array1.reshape((2,2,2,2))\n",
        "print('array3d:\\n', array3d.tolist())  # .tolist() 는 일렬로 시각화\n",
        "\n",
        "# 3차원 ndarray를 2차원 ndarray로 변환\n",
        "# -1 인자를 사용하면 원래 ndarray와 호환되는 새로운 shape로 변환해 줌.\n",
        "\n",
        "array5 = array3d.reshape(-1,1)\n",
        "print('array5:\\n', array5.tolist())\n",
        "print('array5 shape:', array5.shape)\n",
        "\n",
        "# 1차원ndarray를 2차원 ndarray로 변환\n",
        "\n",
        "array6 = array1.reshape(-1,1)\n",
        "print('array6:\\n', array6.tolist())\n",
        "print('array6 shape:', array6.shape)"
      ],
      "metadata": {
        "colab": {
          "base_uri": "https://localhost:8080/"
        },
        "id": "-tx5aCKaFANe",
        "outputId": "58fc129d-4394-4d65-9184-8b315f5f402e"
      },
      "execution_count": 35,
      "outputs": [
        {
          "output_type": "stream",
          "name": "stdout",
          "text": [
            "array3d:\n",
            " [[[[0, 1], [2, 3]], [[4, 5], [6, 7]]], [[[8, 9], [10, 11]], [[12, 13], [14, 15]]]]\n",
            "array5:\n",
            " [[0], [1], [2], [3], [4], [5], [6], [7], [8], [9], [10], [11], [12], [13], [14], [15]]\n",
            "array5 shape: (16, 1)\n",
            "array6:\n",
            " [[0], [1], [2], [3], [4], [5], [6], [7], [8], [9], [10], [11], [12], [13], [14], [15]]\n",
            "array6 shape: (16, 1)\n"
          ]
        }
      ]
    },
    {
      "cell_type": "code",
      "source": [
        "# Numpy_ndarray의 Indexing\n",
        "# 1 - 단일 값 추출\n",
        "\n",
        "array1 = np.arange(start=1,stop=10)\n",
        "print(array1)\n",
        "value = array1[2] # Index 2번째 값\n",
        "print('value:', value)\n",
        "print(type(value))  # array1[2]의 타입은 더 이상 ndarray 타입이 아닌 nadarray 내의 데이터값을 의미함.\n",
        "print('맨 뒤의 값:', array1[-1], '맨 뒤의 두 번째 값', array1[-2])"
      ],
      "metadata": {
        "colab": {
          "base_uri": "https://localhost:8080/"
        },
        "id": "PXdX2jLWMBro",
        "outputId": "079c9f71-f1dd-48ea-84fd-2f06d8ce723c"
      },
      "execution_count": 42,
      "outputs": [
        {
          "output_type": "stream",
          "name": "stdout",
          "text": [
            "[1 2 3 4 5 6 7 8 9]\n",
            "value: 3\n",
            "<class 'numpy.int64'>\n",
            "맨 뒤의 값: 9 맨 뒤의 두 번째 값 8\n"
          ]
        }
      ]
    },
    {
      "cell_type": "code",
      "source": [
        "# 다차원 배열 ndarray 에서 단일 값 추출\n",
        "\n",
        "array1d = np.arange(start=1, stop=10)\n",
        "array2d = array1d.reshape(3,3)\n",
        "print(array2d)\n",
        "\n",
        "print('(row=0, col=0 index 가리키는 값:', array2d[0,0])\n",
        "print('(row=0, col=1 index 가리키는 값:', array2d[0,1])\n",
        "print('(row=1, col=1 index 가리키는 값:', array2d[1,1] )\n",
        "print('(row=2, col=1 index 가리키는 값:', array2d[2,1] )"
      ],
      "metadata": {
        "colab": {
          "base_uri": "https://localhost:8080/"
        },
        "id": "_y_mgkkfNcxx",
        "outputId": "fbf79c06-c7cf-4afc-c49c-20a8bc1f7247"
      },
      "execution_count": 49,
      "outputs": [
        {
          "output_type": "stream",
          "name": "stdout",
          "text": [
            "[[1 2 3]\n",
            " [4 5 6]\n",
            " [7 8 9]]\n",
            "(row=0, col=0 index 가리키는 값: 1\n",
            "(row=0, col=1 index 가리키는 값: 2\n",
            "(row=1, col=1 index 가리키는 값: 5\n",
            "(row=2, col=1 index 가리키는 값: 8\n"
          ]
        }
      ]
    },
    {
      "cell_type": "code",
      "source": [
        "# Index 슬라이싱(slicing)\n",
        "\n",
        "array1 = np.arange(1,10)\n",
        "array3 = array1[0:3]\n",
        "print(array3)\n",
        "print(type(array3)) # 슬라이싱, 팬시 인덱싱, 불린 인덱싱으로 추출된 데이터 세트는 모두 ndarray 타입이다.\n",
        "\n",
        "array1 = np.arange(1,10)\n",
        "array4 = array1[:3]\n",
        "print(array4)\n",
        "\n",
        "array5 = array1[3:]\n",
        "print(array5)\n",
        "\n",
        "array6 = array1[:]\n",
        "print(array6)"
      ],
      "metadata": {
        "colab": {
          "base_uri": "https://localhost:8080/"
        },
        "id": "JNEjdaO0PzIP",
        "outputId": "30ca6b23-ab72-46ce-8797-d5932bcc1571"
      },
      "execution_count": 52,
      "outputs": [
        {
          "output_type": "stream",
          "name": "stdout",
          "text": [
            "[1 2 3]\n",
            "<class 'numpy.ndarray'>\n",
            "[1 2 3]\n",
            "[4 5 6 7 8 9]\n",
            "[1 2 3 4 5 6 7 8 9]\n"
          ]
        }
      ]
    },
    {
      "cell_type": "code",
      "source": [
        "# 2차원 ndarray 슬라이싱\n",
        "\n",
        "array1d = np.arange(1,10)\n",
        "array2d = array1d.reshape(3,3)\n",
        "print(array2d)\n",
        "\n",
        "print('array2d[0:2, 0:2]\\n', array2d[0:2, 0:2])\n",
        "print('array2d[1:3, :2]\\n', array2d[1:3, :2] )"
      ],
      "metadata": {
        "colab": {
          "base_uri": "https://localhost:8080/"
        },
        "id": "pMO2fjLLRJig",
        "outputId": "dbf5e8a3-d555-4cd3-b5af-c7b1bc6d2e41"
      },
      "execution_count": 60,
      "outputs": [
        {
          "output_type": "stream",
          "name": "stdout",
          "text": [
            "[[1 2 3]\n",
            " [4 5 6]\n",
            " [7 8 9]]\n",
            "array2d[0:2, 0:2]\n",
            " [[1 2]\n",
            " [4 5]]\n",
            "array2d[1:3, :2]\n",
            " [[4 5]\n",
            " [7 8]]\n"
          ]
        }
      ]
    },
    {
      "cell_type": "code",
      "source": [
        "# Boolean Indexing\n",
        "\n",
        "array1d = np.arange(1,10)\n",
        "array3 = array1d[array1d > 5]\n",
        "print(array3)\n",
        "\n",
        "array1d >5"
      ],
      "metadata": {
        "colab": {
          "base_uri": "https://localhost:8080/"
        },
        "id": "dF3KzU2YT0yH",
        "outputId": "6e2aa9c0-7c12-4bbf-954b-0019511bfef3"
      },
      "execution_count": 62,
      "outputs": [
        {
          "output_type": "stream",
          "name": "stdout",
          "text": [
            "[6 7 8 9]\n"
          ]
        },
        {
          "output_type": "execute_result",
          "data": {
            "text/plain": [
              "array([False, False, False, False, False,  True,  True,  True,  True])"
            ]
          },
          "metadata": {},
          "execution_count": 62
        }
      ]
    },
    {
      "cell_type": "code",
      "source": [
        "# np.sort() / ndarray.sort()\n",
        "\n",
        "org_array = np.array([3, 1, 9, 5])\n",
        "print('원본 행렬:', org_array)\n",
        "\n",
        "# np.sort()로 정렬\n",
        "sort_array1 = np.sort(org_array)\n",
        "print('np.sort()호출 후 반환된 정렬 행렬: ', sort_array1)\n",
        "print('np.sort()호출 후 원본 행렬:', org_array)\n",
        "\n",
        "# ndarray.sort()로 정렬\n",
        "sort_array2 = org_array.sort()\n",
        "print('ndarray.sort()호출 후 반환된 정렬 행렬: ', sort_array2)\n",
        "print('ndarray.sort()호출 후 원본 행렬: ', org_array)\n",
        "\n",
        "# 내림차순 정렬\n",
        "sort_array1_desc = np.sort(org_array)[::-1]\n",
        "print('내림차순 sort():', sort_array1_desc)\n",
        "\n",
        "# 행렬이 2차원 이상일 경우 axis 축 값을 설정하여 로우,칼럼 방향 정렬 수행 가능\n",
        "\n",
        "array2d = np.array([[8, 12],\n",
        "                    [7, 1]])\n",
        "\n",
        "sort_array2d_axis0 = np.sort(array2d, axis=0) # axis=0 은 로우(행)방향\n",
        "print('로우 방향으로 정렬:\\n', sort_array2d_axis0)\n",
        "\n",
        "sort_array2d_axis1 = np.sort(array2d, axis=1)\n",
        "print('칼럼 방향으로 정렬:\\n',sort_array2d_axis1)"
      ],
      "metadata": {
        "colab": {
          "base_uri": "https://localhost:8080/"
        },
        "id": "PBbn7WqQU2hW",
        "outputId": "ab448897-87b4-40a7-a919-1ef316408a67"
      },
      "execution_count": 75,
      "outputs": [
        {
          "output_type": "stream",
          "name": "stdout",
          "text": [
            "원본 행렬: [3 1 9 5]\n",
            "np.sort()호출 후 반환된 정렬 행렬:  [1 3 5 9]\n",
            "np.sort()호출 후 원본 행렬: [3 1 9 5]\n",
            "ndarray.sort()호출 후 반환된 정렬 행렬:  None\n",
            "ndarray.sort()호출 후 원본 행렬:  [1 3 5 9]\n",
            "내림차순 sort(): [9 5 3 1]\n",
            "로우 방향으로 정렬:\n",
            " [[ 7  1]\n",
            " [ 8 12]]\n",
            "칼럼 방향으로 정렬:\n",
            " [[ 8 12]\n",
            " [ 1  7]]\n"
          ]
        }
      ]
    }
  ]
}